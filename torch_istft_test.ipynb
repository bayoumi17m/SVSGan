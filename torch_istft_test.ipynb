{
 "cells": [
  {
   "cell_type": "code",
   "execution_count": 95,
   "metadata": {
    "collapsed": true
   },
   "outputs": [],
   "source": [
    "import torch\n",
    "import torch.nn.functional as F\n",
    "import numpy as np\n",
    "from torch.autograd import Variable"
   ]
  },
  {
   "cell_type": "code",
   "execution_count": 96,
   "metadata": {
    "collapsed": true
   },
   "outputs": [],
   "source": [
    "import scipy\n",
    "from scipy import signal\n",
    "import scipy.io.wavfile\n",
    "import matplotlib.pyplot as plt\n",
    "import IPython.display as display"
   ]
  },
  {
   "cell_type": "code",
   "execution_count": 97,
   "metadata": {},
   "outputs": [
    {
     "name": "stderr",
     "output_type": "stream",
     "text": [
      "/Users/pro/anaconda3/lib/python3.6/site-packages/scipy/io/wavfile.py:273: WavFileWarning: Chunk (non-data) not understood, skipping it.\n",
      "  WavFileWarning)\n"
     ]
    }
   ],
   "source": [
    "rate, data = scipy.io.wavfile.read(\"./Data/DataSetSubSet/imAlright.wav\")\n",
    "data = data.mean(axis=1)"
   ]
  },
  {
   "cell_type": "code",
   "execution_count": 98,
   "metadata": {},
   "outputs": [
    {
     "name": "stdout",
     "output_type": "stream",
     "text": [
      "torch.Size([1, 1942186])\n"
     ]
    }
   ],
   "source": [
    "data_1 = torch.autograd.Variable(torch.FloatTensor(data), requires_grad=False).unsqueeze(0)\n",
    "print(data_1.shape)"
   ]
  },
  {
   "cell_type": "code",
   "execution_count": 99,
   "metadata": {
    "scrolled": true
   },
   "outputs": [
    {
     "name": "stdout",
     "output_type": "stream",
     "text": [
      "torch.Size([1, 501, 3887])\n",
      "torch.Size([1, 501, 3887])\n",
      "torch.FloatTensor\n"
     ]
    }
   ],
   "source": [
    "# Use the torch version to run stft() and istft() to test the reconstruction\n",
    "stft = STFT()\n",
    "output = stft(data_1)\n",
    "output_1 = output[0][0].numpy()"
   ]
  },
  {
   "cell_type": "code",
   "execution_count": null,
   "metadata": {},
   "outputs": [],
   "source": [
    "# Play the orginal audio\n",
    "display.Audio(data,rate=rate)"
   ]
  },
  {
   "cell_type": "code",
   "execution_count": null,
   "metadata": {},
   "outputs": [],
   "source": [
    "# Play the reconstructed audio by torch version\n",
    "display.Audio(output_1,rate=rate)"
   ]
  },
  {
   "cell_type": "code",
   "execution_count": 100,
   "metadata": {},
   "outputs": [
    {
     "name": "stdout",
     "output_type": "stream",
     "text": [
      "1942186\n"
     ]
    }
   ],
   "source": [
    "print(data.shape[0])"
   ]
  },
  {
   "cell_type": "code",
   "execution_count": 101,
   "metadata": {
    "collapsed": true
   },
   "outputs": [],
   "source": [
    "data_2 = data / np.linalg.norm(data)\n",
    "f, t, Sxx = signal.stft(data_2,rate,nperseg=1000)\n",
    "magnitude = np.abs(Sxx)\n",
    "phase = np.unwrap(np.angle(Sxx),axis=-2)\n",
    "# print(t)\n",
    "# print(f)"
   ]
  },
  {
   "cell_type": "code",
   "execution_count": 102,
   "metadata": {},
   "outputs": [
    {
     "name": "stdout",
     "output_type": "stream",
     "text": [
      "torch.Size([1, 501, 3886])\n",
      "torch.Size([1, 501, 3886])\n",
      "torch.FloatTensor\n"
     ]
    }
   ],
   "source": [
    "magnitude_2 = torch.from_numpy(np.expand_dims(magnitude, axis=0))\n",
    "phase_2 = torch.from_numpy(np.expand_dims(phase, axis=0))\n",
    "print(magnitude_2.shape)\n",
    "print(phase_2.shape)\n",
    "magnitude_2 = magnitude_2.float()\n",
    "phase_2 = phase_2.float()\n",
    "print(magnitude_2.type())"
   ]
  },
  {
   "cell_type": "code",
   "execution_count": 103,
   "metadata": {},
   "outputs": [
    {
     "name": "stdout",
     "output_type": "stream",
     "text": [
      "torch.Size([1, 1, 1942186])\n"
     ]
    }
   ],
   "source": [
    "# Use the scipy stft() and torch istft() to test the reconstruction\n",
    "data_2 = torch.autograd.Variable(torch.FloatTensor(data_2), requires_grad=False).unsqueeze(0)\n",
    "stft = STFT_1(data_2, magnitude_2, phase_2)\n",
    "test = stft()\n",
    "print(test.shape)\n",
    "test_1 = test[0][0].numpy()"
   ]
  },
  {
   "cell_type": "code",
   "execution_count": null,
   "metadata": {},
   "outputs": [],
   "source": [
    "# Play the reconstructed audio by scipy and torch combined version\n",
    "display.Audio(test_1,rate=rate)"
   ]
  },
  {
   "cell_type": "markdown",
   "metadata": {},
   "source": [
    "# Compare the reconstructed audios with the orginal "
   ]
  },
  {
   "cell_type": "code",
   "execution_count": 104,
   "metadata": {
    "collapsed": true
   },
   "outputs": [],
   "source": [
    "trueWav = data_1.numpy()\n",
    "trueWavNorm = data_2.numpy()\n",
    "reConWav_torch = output_1\n",
    "reConWav_combined = test_1"
   ]
  },
  {
   "cell_type": "code",
   "execution_count": 105,
   "metadata": {},
   "outputs": [
    {
     "name": "stdout",
     "output_type": "stream",
     "text": [
      "MSE for torch version: 0.9810662\n",
      "MSE for combined version: 0.9999413\n"
     ]
    }
   ],
   "source": [
    "diff = trueWavNorm - reConWav_combined\n",
    "diff_1 = trueWav - reConWav_torch\n",
    "print('MSE for torch version: %s' % (str((np.linalg.norm(diff_1)))))\n",
    "print('MSE for combined version: %s' % (str((np.linalg.norm(diff)))))"
   ]
  },
  {
   "cell_type": "code",
   "execution_count": 106,
   "metadata": {
    "scrolled": true
   },
   "outputs": [
    {
     "name": "stdout",
     "output_type": "stream",
     "text": [
      "0.9999413 0.0045790044 -0.00565808\n"
     ]
    },
    {
     "data": {
      "image/png": "[encoded data removed]",
      "text/plain": [
       "<matplotlib.figure.Figure at 0x13735a9b0>"
      ]
     },
     "metadata": {},
     "output_type": "display_data"
    },
    {
     "name": "stdout",
     "output_type": "stream",
     "text": [
      "0.9810662 0.0078125 -0.0078125\n"
     ]
    },
    {
     "data": {
      "image/png": "[encoded data removed]",
      "text/plain": [
       "<matplotlib.figure.Figure at 0x11dffdb00>"
      ]
     },
     "metadata": {},
     "output_type": "display_data"
    }
   ],
   "source": [
    "print(np.linalg.norm(diff), diff.max(), diff.min())\n",
    "plt.figure()\n",
    "plt.hist(diff.flatten())\n",
    "plt.show()\n",
    "\n",
    "print(np.linalg.norm(diff_1), diff_1.max(), diff_1.min())\n",
    "plt.figure()\n",
    "plt.hist(diff_1.flatten())\n",
    "plt.show()"
   ]
  },
  {
   "cell_type": "code",
   "execution_count": 93,
   "metadata": {
    "collapsed": true
   },
   "outputs": [],
   "source": [
    "class STFT(torch.nn.Module):\n",
    "    def __init__(self, filter_length=1000, hop_length=500):\n",
    "        super(STFT, self).__init__()\n",
    "\n",
    "        self.filter_length = filter_length\n",
    "        self.hop_length = hop_length\n",
    "        self.forward_transform = None\n",
    "        scale = self.filter_length / self.hop_length\n",
    "        fourier_basis = np.fft.fft(np.eye(self.filter_length))\n",
    "\n",
    "        cutoff = int((self.filter_length / 2 + 1))\n",
    "        fourier_basis = np.vstack([np.real(fourier_basis[:cutoff, :]),\n",
    "                                   np.imag(fourier_basis[:cutoff, :])])\n",
    "        forward_basis = torch.FloatTensor(fourier_basis[:, None, :])\n",
    "        inverse_basis = torch.FloatTensor(np.linalg.pinv(scale * fourier_basis).T[:, None, :])\n",
    "\n",
    "        self.register_buffer('forward_basis', forward_basis.float())\n",
    "        self.register_buffer('inverse_basis', inverse_basis.float())\n",
    "\n",
    "    def transform(self, input_data):\n",
    "        num_batches = input_data.size(0)\n",
    "        num_samples = input_data.size(1)\n",
    "\n",
    "        self.num_samples = num_samples\n",
    "\n",
    "        input_data = input_data.view(num_batches, 1, num_samples)\n",
    "        forward_transform = F.conv1d(input_data,\n",
    "                                     Variable(self.forward_basis, requires_grad=False),\n",
    "                                     stride = self.hop_length,\n",
    "                                     padding = self.filter_length)\n",
    "        cutoff = int((self.filter_length / 2) + 1)\n",
    "        real_part = forward_transform[:, :cutoff, :]\n",
    "        imag_part = forward_transform[:, cutoff:, :]\n",
    "\n",
    "        magnitude = torch.sqrt(real_part**2 + imag_part**2)\n",
    "        phase = torch.autograd.Variable(torch.atan2(imag_part.data, real_part.data))\n",
    "        print(magnitude.shape)\n",
    "        print(phase.shape)\n",
    "        return magnitude, phase\n",
    "\n",
    "    def inverse(self, magnitude, phase):\n",
    "        recombine_magnitude_phase = torch.cat([magnitude*torch.cos(phase),\n",
    "                                               magnitude*torch.sin(phase)], dim=1)\n",
    "\n",
    "        inverse_transform = F.conv_transpose1d(recombine_magnitude_phase,\n",
    "                                               Variable(self.inverse_basis, requires_grad=False),\n",
    "                                               stride=self.hop_length,\n",
    "                                               padding=0)\n",
    "        inverse_transform = inverse_transform[:, :, self.filter_length:]\n",
    "        inverse_transform = inverse_transform[:, :, :self.num_samples]\n",
    "        return inverse_transform\n",
    "\n",
    "    def forward(self, input_data):\n",
    "        self.magnitude, self.phase = self.transform(input_data)\n",
    "        print(self.magnitude.type())\n",
    "        reconstruction = self.inverse(self.magnitude, self.phase)\n",
    "        return reconstruction"
   ]
  },
  {
   "cell_type": "code",
   "execution_count": 94,
   "metadata": {
    "collapsed": true
   },
   "outputs": [],
   "source": [
    "class STFT_1(torch.nn.Module):\n",
    "    def __init__(self, input_data, magnitude, phase, filter_length=1000, hop_length=500):\n",
    "        super(STFT_1, self).__init__()\n",
    "        \n",
    "        self.input_data = input_data\n",
    "        self.magnitude = magnitude\n",
    "        self.phase = phase\n",
    "        self.filter_length = filter_length\n",
    "        self.hop_length = hop_length\n",
    "        self.forward_transform = None\n",
    "        scale = self.filter_length / self.hop_length\n",
    "        fourier_basis = np.fft.fft(np.eye(self.filter_length))\n",
    "\n",
    "        cutoff = int((self.filter_length / 2 + 1))\n",
    "        fourier_basis = np.vstack([np.real(fourier_basis[:cutoff, :]),\n",
    "                                   np.imag(fourier_basis[:cutoff, :])])\n",
    "        forward_basis = torch.FloatTensor(fourier_basis[:, None, :])\n",
    "        inverse_basis = torch.FloatTensor(np.linalg.pinv(scale * fourier_basis).T[:, None, :])\n",
    "\n",
    "        self.register_buffer('forward_basis', forward_basis.float())\n",
    "        self.register_buffer('inverse_basis', inverse_basis.float())\n",
    "\n",
    "\n",
    "    def inverse(self, magnitude, phase):\n",
    "        num_samples = self.input_data.size(1)\n",
    "\n",
    "        self.num_samples = num_samples\n",
    "        recombine_magnitude_phase = torch.cat([magnitude*torch.cos(phase),\n",
    "                                               magnitude*torch.sin(phase)], dim=1)\n",
    "\n",
    "        inverse_transform = F.conv_transpose1d(recombine_magnitude_phase,\n",
    "                                               Variable(self.inverse_basis, requires_grad=False),\n",
    "                                               stride=self.hop_length,\n",
    "                                               padding=0)\n",
    "        inverse_transform = inverse_transform[:, :, self.filter_length:]\n",
    "        inverse_transform = inverse_transform[:, :, :self.num_samples]\n",
    "        return inverse_transform\n",
    "\n",
    "    def forward(self):\n",
    "        reconstruction = self.inverse(self.magnitude, self.phase)\n",
    "        return reconstruction"
   ]
  },
  {
   "cell_type": "code",
   "execution_count": null,
   "metadata": {
    "collapsed": true
   },
   "outputs": [],
   "source": []
  }
 ],
 "metadata": {
  "kernelspec": {
   "display_name": "Python 3",
   "language": "python",
   "name": "python3"
  },
  "language_info": {
   "codemirror_mode": {
    "name": "ipython",
    "version": 3
   },
   "file_extension": ".py",
   "mimetype": "text/x-python",
   "name": "python",
   "nbconvert_exporter": "python",
   "pygments_lexer": "ipython3",
   "version": "3.6.3"
  }
 },
 "nbformat": 4,
 "nbformat_minor": 2
}
