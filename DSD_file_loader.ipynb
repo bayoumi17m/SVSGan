{
 "cells": [
  {
   "cell_type": "code",
   "execution_count": 1,
   "metadata": {
    "collapsed": true
   },
   "outputs": [],
   "source": [
    "import os\n",
    "import numpy as np\n",
    "import scipy\n",
    "from scipy import signal\n",
    "from scipy.io.wavfile import read\n",
    "from pydub import AudioSegment"
   ]
  },
  {
   "cell_type": "code",
   "execution_count": 2,
   "metadata": {
    "collapsed": true
   },
   "outputs": [],
   "source": [
    "dataset_paths = {\n",
    "    'mixtures': os.path.join('/Users/pro/Desktop/DSD100subset', 'Mixtures'),\n",
    "    'sources': os.path.join('/Users/pro/Desktop/DSD100subset', 'Sources')\n",
    "}"
   ]
  },
  {
   "cell_type": "code",
   "execution_count": 3,
   "metadata": {
    "collapsed": true
   },
   "outputs": [],
   "source": [
    "def get_DSD_files(subset):\n",
    "    \"\"\"Getting the files lists.\n",
    "\n",
    "    :param subset: The subset that we are interested in (i.e. training or testing).\n",
    "    :type subset: str\n",
    "    :return: The lists with the file paths of the files that we want to use.\n",
    "    :rtype: (list[str], list[str])\n",
    "    \"\"\"\n",
    "    specific_dir = 'Dev' if subset == 'training' else 'Test'\n",
    "    mixtures_dir = os.path.join(dataset_paths['mixtures'], specific_dir)\n",
    "    sources_dir = os.path.join(dataset_paths['sources'], specific_dir)\n",
    "\n",
    "    mixtures_list = [os.path.join(mixtures_dir, file_path)\n",
    "                     for file_path in sorted(os.listdir(mixtures_dir))]\n",
    "\n",
    "    sources_list = [os.path.join(sources_dir, file_path)\n",
    "                    for file_path in sorted(os.listdir(sources_dir))]\n",
    "\n",
    "    return mixtures_list, sources_list"
   ]
  },
  {
   "cell_type": "code",
   "execution_count": 4,
   "metadata": {
    "collapsed": true
   },
   "outputs": [],
   "source": [
    "devs = get_DSD_files('training')"
   ]
  },
  {
   "cell_type": "code",
   "execution_count": 5,
   "metadata": {
    "collapsed": true
   },
   "outputs": [],
   "source": [
    "tests = get_DSD_files('testing')"
   ]
  },
  {
   "cell_type": "code",
   "execution_count": 8,
   "metadata": {},
   "outputs": [
    {
     "name": "stderr",
     "output_type": "stream",
     "text": [
      "/Users/pro/anaconda3/lib/python3.6/site-packages/scipy/io/wavfile.py:273: WavFileWarning: Chunk (non-data) not understood, skipping it.\n",
      "  WavFileWarning)\n"
     ]
    }
   ],
   "source": [
    "mix_train = [np.array(read(os.path.join(dev, \"mixture.wav\"))[1], dtype=float)  for dev in devs[0]]"
   ]
  },
  {
   "cell_type": "code",
   "execution_count": 9,
   "metadata": {},
   "outputs": [
    {
     "name": "stderr",
     "output_type": "stream",
     "text": [
      "/Users/pro/anaconda3/lib/python3.6/site-packages/scipy/io/wavfile.py:273: WavFileWarning: Chunk (non-data) not understood, skipping it.\n",
      "  WavFileWarning)\n"
     ]
    }
   ],
   "source": [
    "mix_test = [np.array(read(os.path.join(test, \"mixture.wav\"))[1], dtype=float) for test in tests[0]]"
   ]
  },
  {
   "cell_type": "code",
   "execution_count": 10,
   "metadata": {},
   "outputs": [
    {
     "name": "stderr",
     "output_type": "stream",
     "text": [
      "/Users/pro/anaconda3/lib/python3.6/site-packages/scipy/io/wavfile.py:273: WavFileWarning: Chunk (non-data) not understood, skipping it.\n",
      "  WavFileWarning)\n"
     ]
    }
   ],
   "source": [
    "vocals_train = [np.array(read(os.path.join(dev, \"vocals.wav\"))[1], dtype=float)  for dev in devs[1]]"
   ]
  },
  {
   "cell_type": "code",
   "execution_count": 11,
   "metadata": {},
   "outputs": [
    {
     "name": "stderr",
     "output_type": "stream",
     "text": [
      "/Users/pro/anaconda3/lib/python3.6/site-packages/scipy/io/wavfile.py:273: WavFileWarning: Chunk (non-data) not understood, skipping it.\n",
      "  WavFileWarning)\n"
     ]
    }
   ],
   "source": [
    "vocals_test = [np.array(read(os.path.join(test, \"vocals.wav\"))[1], dtype=float)  for test in tests[1]]"
   ]
  },
  {
   "cell_type": "code",
   "execution_count": 12,
   "metadata": {
    "collapsed": true
   },
   "outputs": [],
   "source": [
    "# print(os.path.join(devs[1][1], \"bass.wav\"))\n",
    "# bass = AudioSegment.from_wav(os.path.join(devs[1][1], \"bass.wav\"))\n",
    "# drums = AudioSegment.from_wav(os.path.join(devs[1][1], \"drums.wav\"))\n",
    "# other = AudioSegment.from_wav(os.path.join(devs[1][1], \"other.wav\"))\n",
    "# mix_true = bass.overlay(drums.overlay(other))\n",
    "# mix_true.export(\"mix_true.wav\", format=\"wav\")"
   ]
  },
  {
   "cell_type": "code",
   "execution_count": 13,
   "metadata": {
    "collapsed": true
   },
   "outputs": [],
   "source": [
    "bgm_train = []\n",
    "for dev in devs[1]:\n",
    "    bass = AudioSegment.from_wav(os.path.join(dev, \"bass.wav\"))\n",
    "    drums = AudioSegment.from_wav(os.path.join(dev, \"drums.wav\"))\n",
    "    other = AudioSegment.from_wav(os.path.join(dev, \"other.wav\"))\n",
    "    bgm = bass.overlay(drums.overlay(other))\n",
    "    bgm_train.append(np.array(bgm.get_array_of_samples(), dtype=float))"
   ]
  },
  {
   "cell_type": "code",
   "execution_count": 14,
   "metadata": {
    "collapsed": true
   },
   "outputs": [],
   "source": [
    "bgm_test = []\n",
    "for test in tests[1]:\n",
    "    bass = AudioSegment.from_wav(os.path.join(test, \"bass.wav\"))\n",
    "    drums = AudioSegment.from_wav(os.path.join(test, \"drums.wav\"))\n",
    "    other = AudioSegment.from_wav(os.path.join(test, \"other.wav\"))\n",
    "    bgm = bass.overlay(drums.overlay(other))\n",
    "    bgm_test.append(np.array(bgm.get_array_of_samples(), dtype=float))"
   ]
  },
  {
   "cell_type": "code",
   "execution_count": null,
   "metadata": {
    "collapsed": true
   },
   "outputs": [],
   "source": []
  }
 ],
 "metadata": {
  "kernelspec": {
   "display_name": "Python 3",
   "language": "python",
   "name": "python3"
  },
  "language_info": {
   "codemirror_mode": {
    "name": "ipython",
    "version": 3
   },
   "file_extension": ".py",
   "mimetype": "text/x-python",
   "name": "python",
   "nbconvert_exporter": "python",
   "pygments_lexer": "ipython3",
   "version": "3.7.1"
  }
 },
 "nbformat": 4,
 "nbformat_minor": 2
}
